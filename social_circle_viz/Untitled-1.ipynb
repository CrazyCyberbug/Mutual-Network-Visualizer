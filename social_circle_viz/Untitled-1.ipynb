{
 "cells": [
  {
   "cell_type": "markdown",
   "metadata": {},
   "source": [
    "# MUTUTAL CIRCLE VISUALIZER"
   ]
  },
  {
   "cell_type": "markdown",
   "metadata": {},
   "source": [
    "NOTE:\n",
    "\n",
    "    1. While running this programme make sure you have a decent internet or the programme may crash.` \n",
    "    \n",
    "    2. In the event of this programme crashing you will run the entire programme again.\n"
   ]
  },
  {
   "cell_type": "markdown",
   "metadata": {},
   "source": [
    "\n",
    "    3. You will have to enter you  userid and password before starting the program.    \n",
    "        This program will be running locally on your system so your credentials are safe with you and wont be visible to anyone else.\n"
   ]
  },
  {
   "cell_type": "markdown",
   "metadata": {},
   "source": [
    "\n",
    "    # BEWARE: Refrain from running this program frequently instram might ban your account for malicious activity\n",
    "\n"
   ]
  },
  {
   "cell_type": "markdown",
   "metadata": {},
   "source": [
    "### IMPORT STATEMENTS"
   ]
  },
  {
   "cell_type": "code",
   "execution_count": null,
   "metadata": {},
   "outputs": [],
   "source": [
    "from selenium import webdriver\n",
    "from selenium.webdriver.common.keys import Keys\n",
    "from selenium.webdriver.support import expected_conditions as ec\n",
    "from selenium.webdriver.common.by import By\n",
    "from selenium.webdriver.support.wait import WebDriverWait"
   ]
  },
  {
   "cell_type": "markdown",
   "metadata": {},
   "source": [
    "### OPENING A CHROME INSTANCE AND LOGGING INTO INSTAGRAM ACCOUNT"
   ]
  },
  {
   "cell_type": "code",
   "execution_count": null,
   "metadata": {},
   "outputs": [],
   "source": [
    "from selenium import webdriver\n",
    "from selenium.webdriver.chrome.service import Service\n",
    "from webdriver_manager.chrome import ChromeDriverManager\n",
    "\n",
    "driver = webdriver.Chrome(service=Service(ChromeDriverManager().install()))"
   ]
  },
  {
   "cell_type": "code",
   "execution_count": null,
   "metadata": {},
   "outputs": [],
   "source": [
    "# please feed in the user id and password\n",
    "userID  = \"fill in the userID\"\n",
    "user_password = \"fill in the password\""
   ]
  },
  {
   "cell_type": "code",
   "execution_count": null,
   "metadata": {},
   "outputs": [],
   "source": [
    "#open the webpage\n",
    "driver.get(\"http://www.instagram.com\")"
   ]
  },
  {
   "cell_type": "code",
   "execution_count": null,
   "metadata": {},
   "outputs": [],
   "source": [
    "#target username\n",
    "username = WebDriverWait(driver, 50).until(ec.element_to_be_clickable((By.CSS_SELECTOR, \"input[name='username']\")))\n",
    "password = WebDriverWait(driver, 50).until(ec.element_to_be_clickable((By.CSS_SELECTOR, \"input[name='password']\")))\n",
    "\n",
    "#enter username and password\n",
    "username.clear()\n",
    "username.send_keys(userID)\n",
    "password.clear()\n",
    "password.send_keys(user_password)\n",
    "\n",
    "#target the login button and click it\n",
    "button = WebDriverWait(driver, 2).until(ec.element_to_be_clickable((By.CSS_SELECTOR, \"button[type='submit']\"))).click()\n",
    "\n",
    "# clicking out of the turn - on notificaions windows\n",
    "not_now = WebDriverWait(driver, 10).until(ec.element_to_be_clickable((By.XPATH, '//button[contains(text(), \"Not Now\")]'))).click()\n",
    "not_now2 = WebDriverWait(driver, 10).until(ec.element_to_be_clickable((By.XPATH, '//button[contains(text(), \"Not Now\")]'))).click()"
   ]
  },
  {
   "cell_type": "markdown",
   "metadata": {},
   "source": [
    "### SCRAPING FOLLOWER ACCOUNT DETAILS"
   ]
  },
  {
   "cell_type": "code",
   "execution_count": null,
   "metadata": {},
   "outputs": [],
   "source": [
    "# opening the accounts page \n",
    "WebDriverWait(driver, 10).until(ec.element_to_be_clickable((By.XPATH,\"//a[contains(@class, 'x1i10hfl xjbqb8w x6umtig x1b1mbwd xaqea5y xav7gou x9f619 x1ypdohk xt0psk2 xe8uvvx xdj266r x11i5rnm xat24cr x1mh8g0r xexx8yu x4uap5 x18d9i69 xkhd6sd x16tdsg8 x1hl2dhg xggy1nq x1a2a7pz _aak1 _a6hd')]\"))).click()\n"
   ]
  },
  {
   "cell_type": "code",
   "execution_count": null,
   "metadata": {},
   "outputs": [],
   "source": [
    "# opening the followers list\n",
    "WebDriverWait(driver, 10).until(ec.element_to_be_clickable((By.XPATH,\"//a[contains(@class, 'x1i10hfl xjbqb8w x6umtig x1b1mbwd xaqea5y xav7gou x9f619 x1ypdohk xt0psk2 xe8uvvx xdj266r x11i5rnm xat24cr x1mh8g0r xexx8yu x4uap5 x18d9i69 xkhd6sd x16tdsg8 x1hl2dhg xggy1nq x1a2a7pz _a6hd')]\"))).click()\n",
    "\n",
    "# selecting the followers list\n",
    "follower_accounts_dropdown = WebDriverWait(driver, 10).until(ec.element_to_be_clickable((By.XPATH, \"//div[contains(@class, '_aano')]\")))\n",
    "\n",
    "# scrolling down so that more names are loaded and selecting the accounts\n",
    "WebDriverWait(driver, 10).until(ec.element_to_be_clickable((By.XPATH,\"//div[@class = '_ab8w  _ab94 _ab97 _ab9f _ab9k _ab9p  _ab9- _aba8 _abcm']\")))\n",
    "(driver).execute_script(\"arguments[0].scrollTo(0,6000000);\", follower_accounts_dropdown);\n",
    "follower_accounts  = driver.find_elements(By.XPATH, \"//div[@class = '_ab8w  _ab94 _ab97 _ab9f _ab9k _ab9p  _ab9- _aba8 _abcm']\")\n",
    "\n"
   ]
  },
  {
   "cell_type": "markdown",
   "metadata": {},
   "source": [
    "### DEFINING CLASS FOR MAKING OBJECTS OUT OF INDIVIDUAL ACCOUNTS"
   ]
  },
  {
   "cell_type": "code",
   "execution_count": null,
   "metadata": {},
   "outputs": [],
   "source": [
    "class accounts():\n",
    "    def __init__(self, name, handle, photo):\n",
    "        self.name = name\n",
    "        self.handle = handle \n",
    "        self.photo = photo\n"
   ]
  },
  {
   "cell_type": "markdown",
   "metadata": {},
   "source": [
    "### MAKING OBECTS FROM DATA"
   ]
  },
  {
   "cell_type": "code",
   "execution_count": null,
   "metadata": {},
   "outputs": [],
   "source": [
    "# making objects out of the scraped details\n",
    "\n",
    "follower_objects = []\n",
    "for i in range(len(follower_accounts)):\n",
    "    Follower  = follower_accounts[i]\n",
    "    \n",
    "    try:\n",
    "        Follower_name = Follower.find_element(By.XPATH, \".//div[@class = '_aacl _aaco _aacu _aacy _aada']\").text\n",
    "    except:         \n",
    "        Follower_name = \"PERSON_NAME\"\n",
    "    \n",
    "    try:        \n",
    "        Follower_id = Follower.find_element(By.XPATH, \".//a[@class = 'x1i10hfl x1qjc9v5 xjbqb8w xjqpnuy xa49m3k xqeqjp1 x2hbi6w x13fuv20 xu3j5b3 x1q0q8m5 x26u7qi x972fbf xcfux6l x1qhh985 xm0m39n x9f619 x1ypdohk x78zum5 xdl72j9 xdt5ytf x2lah0s xe8uvvx xdj266r x11i5rnm xat24cr x1mh8g0r x2lwn1j xeuugli xexx8yu x4uap5 x18d9i69 xkhd6sd x1n2onr6 x16tdsg8 x1hl2dhg xggy1nq x1ja2u2z x1t137rt _aa8h _aa8i _aa8k _a6hd']\").get_attribute('href')  \n",
    "    except:\n",
    "        Follower_id = \"PERSON_ID\"\n",
    "    \n",
    "    \n",
    "    \n",
    "    Follower_img = Follower.find_element(By.XPATH, \".//img[@class = '_aa8j']\").get_attribute('src')\n",
    "    \n",
    "#     creating an object with these values\n",
    "    person = accounts(Follower_name, Follower_id, Follower_img)\n",
    "    follower_objects.append(person)\n",
    "    "
   ]
  },
  {
   "cell_type": "markdown",
   "metadata": {},
   "source": [
    " PRINTING THE OBJECTS FROM THE DATA EXTRACTED"
   ]
  },
  {
   "cell_type": "code",
   "execution_count": null,
   "metadata": {},
   "outputs": [],
   "source": [
    "for account in follower_objects:\n",
    "    print(\"Follower name :  \",account.name , \"\\n\")\n",
    "    print(\"Follower id: \", account.handle , \"\\n\")\n",
    "    print(\"Follower DP: \", account.photo, \"\\n\\n\")\n",
    "    print(\"_________________________________________________________________________________________________________________\\n\\n\")"
   ]
  },
  {
   "cell_type": "markdown",
   "metadata": {},
   "source": [
    "### EXTRATING THE MUTUAL FOLLOWERS INFORMATION"
   ]
  },
  {
   "cell_type": "markdown",
   "metadata": {},
   "source": [
    "MAKING A DICTIONARY WITH FOLLOWERS ACCOUNTS AS KEY AND THE  LIST OF MUTUAL FOLLOWER THAT THE SHARE WITH YOU AS THE VALUE"
   ]
  },
  {
   "cell_type": "code",
   "execution_count": null,
   "metadata": {},
   "outputs": [],
   "source": [
    "# SEPARATION OF CONCERNS\n",
    "\n",
    "\n",
    "# the following function returns the list of mutuals account objects an object is passed to it\n",
    "def get_mutual_objects2(follower_object):\n",
    "\n",
    "    href = follower_object.handle\n",
    "    driver.get(href)\n",
    "\n",
    "    follower_objects1 = scrape_follower_details()\n",
    "    return follower_objects1\n",
    "\n",
    "# this combines the work of the next two functions \n",
    "def scrape_follower_details():\n",
    "   \n",
    "   follower_accounts1  = get_follower_accounts()\n",
    "    \n",
    "#    print(follower_accounts1)\n",
    "\n",
    "   # EXTRACTING DATA FROM WebElements\n",
    "   follower_objects1 = make_objects(follower_accounts1)\n",
    "\n",
    "   return follower_objects1\n",
    "\n",
    "# The following function returns a list of web Element objects\n",
    "def get_follower_accounts():\n",
    "     # CLICK FOLLOWERS\n",
    "    WebDriverWait(driver, 100).until(ec.element_to_be_clickable((By.XPATH, \"//a[@class = 'x1i10hfl xjbqb8w x6umtig x1b1mbwd xaqea5y xav7gou x9f619 x1ypdohk xt0psk2 xe8uvvx xdj266r x11i5rnm xat24cr x1mh8g0r xexx8yu x4uap5 x18d9i69 xkhd6sd x16tdsg8 x1hl2dhg xggy1nq x1a2a7pz _aaai _a6hd']\"))).click()\n",
    "\n",
    "    # SELECTING THE ACCOUNTS\n",
    "    follower_accounts_dropdown1 = WebDriverWait(driver, 100).until(ec.element_to_be_clickable((By.XPATH, \"//div[contains(@class, '_aano')]\")))\n",
    "\n",
    "    # scrolling down so that more names are loaded and selecting the accounts\n",
    "    WebDriverWait(driver, 100).until(ec.element_to_be_clickable((By.XPATH,\"//div[@class = '_ab8w  _ab94 _ab97 _ab9f _ab9k _ab9p  _ab9- _aba8 _abcm']\")))\n",
    "    (driver).execute_script(\"arguments[0].scrollTo(0,6000000);\", follower_accounts_dropdown1)\n",
    "    follower_accounts1  = driver.find_elements(By.XPATH, \"//div[@class = '_ab8w  _ab94 _ab97 _ab9f _ab9k _ab9p  _ab9- _aba8 _abcm']\")\n",
    "\n",
    "    return follower_accounts1\n",
    "\n",
    "# the folloing makes objects using the web element object\n",
    "def make_objects(follower_accounts1):\n",
    "    follower_objects1 = []\n",
    "\n",
    "    for i in range(len(follower_accounts1)):\n",
    "        Follower  = follower_accounts1[i]\n",
    "        \n",
    "        if (driver.find_elements(By.XPATH,\"//div[@class = '_aa_u']\")):\n",
    "            continue\n",
    "\n",
    "        try:\n",
    "            Follower_name = Follower.find_element(By.XPATH, \".//div[@class = '_aacl _aaco _aacu _aacy _aada']\").text\n",
    "        except:         \n",
    "            Follower_name = \"PERSON_NAME\"      \n",
    "\n",
    "        try:        \n",
    "            Follower_id = Follower.find_element(By.XPATH, \".//a[@class = 'x1i10hfl x1qjc9v5 xjbqb8w xjqpnuy xa49m3k xqeqjp1 x2hbi6w x13fuv20 xu3j5b3 x1q0q8m5 x26u7qi x972fbf xcfux6l x1qhh985 xm0m39n x9f619 x1ypdohk x78zum5 xdl72j9 xdt5ytf x2lah0s xe8uvvx xdj266r x11i5rnm xat24cr x1mh8g0r x2lwn1j xeuugli xexx8yu x4uap5 x18d9i69 xkhd6sd x1n2onr6 x16tdsg8 x1hl2dhg xggy1nq x1ja2u2z x1t137rt _aa8h _aa8i _aa8k _a6hd']\").get_attribute('href')  \n",
    "        except:\n",
    "            Follower_id = \"PERSON_ID\"      \n",
    "        \n",
    "        \n",
    "        Follower_img = Follower.find_element(By.XPATH, \".//img[@class = '_aa8j']\").get_attribute('src')\n",
    "        \n",
    "    #     creating an object with these values\n",
    "        person = accounts(Follower_name, Follower_id, Follower_img)\n",
    "        follower_objects1.append(person)\n",
    "\n",
    "    \n",
    "    return follower_objects1      "
   ]
  },
  {
   "cell_type": "code",
   "execution_count": null,
   "metadata": {},
   "outputs": [],
   "source": [
    "mutual_dict = {}\n",
    "for i in range(3):\n",
    "    follower  = follower_objects[i]\n",
    "    try:\n",
    "        object_list =get_mutual_objects2(follower)\n",
    "    except:\n",
    "        continue\n",
    "    mutual_dict[follower.name]= object_list\n",
    "\n",
    "for key in mutual_dict:\n",
    "    print(key, mutual_dict[key])"
   ]
  },
  {
   "cell_type": "markdown",
   "metadata": {},
   "source": [
    "### MAKING A PYVIZ GRAPH FROM THE EXTACTED INFORMATION"
   ]
  },
  {
   "cell_type": "code",
   "execution_count": null,
   "metadata": {},
   "outputs": [],
   "source": [
    "import pyvis\n",
    "from pyvis.network import Network\n",
    "net = Network(height=\"1000px\", width=\"100%\", bgcolor=\"#222222\", font_color=\"white\")\n",
    "for key in mutual_dict:\n",
    "    net.add_node(key, label  = key)\n",
    "    for obj in mutual_dict[key]:\n",
    "        net.add_node(obj.name, label = obj.name)\n",
    "        net.add_edge(key, obj.name)\n",
    "\n",
    "net.show(\"graph_2.html\")\n",
    "driver.get(\"C:/Users/Swaroop/social_circle_viz/graph_2.html\")"
   ]
  },
  {
   "cell_type": "markdown",
   "metadata": {},
   "source": [
    "### Note : An interactive pyvis graph with nodes representing accounts and edges representing follower -followee relationship is created in from of an html file.\n",
    "This html is stored as graph.html  file can be found in the parent directory in which this python file is run"
   ]
  }
 ],
 "metadata": {
  "kernelspec": {
   "display_name": "Python 3.8.0 64-bit",
   "language": "python",
   "name": "python3"
  },
  "language_info": {
   "codemirror_mode": {
    "name": "ipython",
    "version": 3
   },
   "file_extension": ".py",
   "mimetype": "text/x-python",
   "name": "python",
   "nbconvert_exporter": "python",
   "pygments_lexer": "ipython3",
   "version": "3.8.0"
  },
  "orig_nbformat": 4,
  "vscode": {
   "interpreter": {
    "hash": "a0975b8fee8824b268fe468d6c313308a0d051291cfba5702c863b99bfd677d3"
   }
  }
 },
 "nbformat": 4,
 "nbformat_minor": 2
}
